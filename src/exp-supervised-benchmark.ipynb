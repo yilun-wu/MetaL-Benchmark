{
 "cells": [
  {
   "cell_type": "markdown",
   "source": [
    "## This notebook provides a framework for running meta-learning benchmark experiment for the different dataset."
   ],
   "metadata": {
    "collapsed": false,
    "pycharm": {
     "name": "#%% md\n"
    }
   }
  },
  {
   "cell_type": "code",
   "execution_count": null,
   "outputs": [],
   "source": [
    "%load_ext autoreload\n",
    "%autoreload 2"
   ],
   "metadata": {
    "collapsed": false,
    "pycharm": {
     "name": "#%%\n",
     "is_executing": false
    }
   }
  },
  {
   "cell_type": "markdown",
   "source": [
    "### Experiment config, hyper-parameters"
   ],
   "metadata": {
    "collapsed": false,
    "pycharm": {
     "name": "#%% md\n",
     "is_executing": false
    }
   }
  },
  {
   "cell_type": "code",
   "source": [
    "exp_config = {\n",
    "    'exp_name':'benchmark-sin-easy', 'dataset': 'sin-easy', 'x_dim': 1, 'y_dim': 1\n",
    "    #'exp_name':'benchmark-sin-hard', 'dataset': 'sin-hard', 'x_dim': 1, 'y_dim': 1\n",
    "    #'exp_name':'benchmark-cauchy', 'dataset': 'cauchy', 'x_dim': 2, 'y_dim': 1\n",
    "    #'exp_name':'benchmark-swissfel', 'dataset': 'swissfel', 'x_dim': 12, 'y_dim': 1\n",
    "}\n",
    "\n",
    "alpaca_model_config = {\n",
    "    'nn_layers': [32, 32, 32], 'sigma_eps': 0.04, 'activation': 'tanh',\n",
    "    'data_horizon': 5, 'test_horizon': 5, 'loss_type':'prior', 'impl_c': True,\n",
    "    'fixL': True, 'loss_full_cov': True, 'learn_sigma': True\n",
    "}\n",
    "\n",
    "alpaca_opt_config = {\n",
    "    'optimizer': 'AdamW', 'lr': 0.001, 'weight_decay': 5e-4, 'meta_batch_size': 5\n",
    "}\n",
    "\n",
    "retrain_alpaca = False\n",
    "retrain_gpmeta = False\n",
    "\n",
    "gpmeta_model_config = {\n",
    "    'learning_mode': 'both', 'covar_module': 'NN', 'mean_module': 'NN',\n",
    "    'feature_dim': 32, 'mean_nn_layers': (128, 128), 'kernel_nn_layers': (128, 128),\n",
    "    'normalize_data': True,\n",
    "}\n",
    "\n",
    "gpmeta_opt_config = {\n",
    "    'optimizer': 'Adam',\n",
    "    'lr': 0.001, 'weight_decay': 0.3, 'lr_decay': 1.0,\n",
    "    'meta_batch_size': 5\n",
    "}"
   ],
   "metadata": {
    "collapsed": false,
    "pycharm": {
     "name": "#%% \n"
    }
   },
   "execution_count": null,
   "outputs": []
  },
  {
   "cell_type": "code",
   "execution_count": null,
   "outputs": [],
   "source": [
    "# dataset preparation\n",
    "import numpy as np\n",
    "from lib.PACOH.experiments.data_sim import SinusoidDataset, CauchyDataset, provide_data\n",
    "\n",
    "if \"sin\" in exp_config['dataset']:\n",
    "    if exp_config['dataset'] == 'sin-easy':\n",
    "        dataset = SinusoidDataset(random_state=41)\n",
    "    elif exp_config['dataset'] == 'sin-hard':\n",
    "        dataset = SinusoidDataset(amp_low=0.7, amp_high=1.4,\n",
    "                         period_low=1.0, period_high=2.0,\n",
    "                         x_shift_mean=0.0, x_shift_std=2.0,\n",
    "                         y_shift_mean=5.0, y_shift_std=0.8,\n",
    "                         slope_mean=0.5, slope_std=0.6,\n",
    "                         noise_std=0.2, x_low=-5, x_high=5, random_state=41)\n",
    "    \n",
    "    data_train = dataset.generate_meta_train_data(n_tasks=20, n_samples=10)\n",
    "    data_test, f_test = dataset.generate_meta_test_data(n_tasks=100, n_samples_context=10,\n",
    "                                                        n_samples_test=100, return_f=True)\n",
    "    \n",
    "elif exp_config['dataset'] == 'cauchy':\n",
    "    dataset = CauchyDataset(noise_std=0.05, ndim_x=2, random_state=31)\n",
    "    data_train = dataset.generate_meta_train_data(n_tasks=20, n_samples=20)\n",
    "    data_test = dataset.generate_meta_test_data(n_tasks=100,\n",
    "                                            n_samples_context=20,\n",
    "                                            n_samples_test=100)\n",
    "    \n",
    "elif exp_config['dataset'] == 'swissfel':\n",
    "    data_train, _, data_test = provide_data(dataset='swissfel')"
   ],
   "metadata": {
    "collapsed": false,
    "pycharm": {
     "name": "#%%\n",
     "is_executing": false
    }
   }
  },
  {
   "cell_type": "code",
   "execution_count": null,
   "outputs": [],
   "source": [
    "import sys\n",
    "import os\n",
    "PACOH_DIR = os.path.dirname(os.path.abspath(''))+'/lib/PACOH'\n",
    "sys.path.append(PACOH_DIR)\n",
    "\n",
    "# import ALPaCa model\n",
    "import tensorflow as tf\n",
    "from lib.ALPaCA.main.alpaca import ALPaCA\n",
    "from src.helper import alpaca_config, metalgp_config\n",
    "from lib.PACOH.experiments.util import save_dict, dict_to_tabular_str\n",
    "\n",
    "g1 = tf.Graph()\n",
    "sess1 = tf.InteractiveSession(config=tf.ConfigProto(log_device_placement=True), graph=g1)\n",
    "alpaca = ALPaCA(alpaca_config(exp_config, alpaca_opt_config, alpaca_model_config), sess1, g1)\n",
    "alpaca.construct_model()\n",
    "\n",
    "# import PACOH model\n",
    "\n",
    "from lib.PACOH.meta_learn.GPR_meta_mll import GPRegressionMetaLearned\n",
    "import torch\n",
    "import hashlib\n",
    "import os\n",
    "\n",
    "torch.set_num_threads(2)\n",
    "\n",
    "gp_meta = GPRegressionMetaLearned(data_train, **metalgp_config(gpmeta_opt_config, gpmeta_model_config))"
   ],
   "metadata": {
    "collapsed": false,
    "pycharm": {
     "name": "#%%\n",
     "is_executing": false
    }
   }
  },
  {
   "cell_type": "code",
   "execution_count": null,
   "outputs": [],
   "source": [
    "# train models\n",
    "alpaca_model_hash = hashlib.md5((str(exp_config)+str(alpaca_model_config)).encode('utf8')).hexdigest()\n",
    "alpaca_model_path = os.path.dirname(os.path.abspath('')) + '/data/' + str(alpaca_model_hash) + '/'\n",
    "os.makedirs(alpaca_model_path, exist_ok=True)\n",
    "if not retrain_alpaca and os.path.isfile(alpaca_model_path + 'checkpoint'):\n",
    "    alpaca.restore(alpaca_model_path + 'tf')\n",
    "else:\n",
    "    pass\n",
    "    alpaca.train(data_train, 15000, valid_dataset=data_test)\n",
    "    alpaca.save(alpaca_model_path + 'tf')\n",
    "    save_dict({**exp_config, **alpaca_model_config, **alpaca_opt_config}, os.path.join(alpaca_model_path, 'config.json'))"
   ],
   "metadata": {
    "collapsed": false,
    "pycharm": {
     "name": "#%%\n",
     "is_executing": false
    }
   }
  },
  {
   "cell_type": "code",
   "execution_count": null,
   "outputs": [],
   "source": [
    "gpmeta_model_hash = hashlib.md5((str(exp_config)+str(gpmeta_model_config)).encode('utf8')).hexdigest()\n",
    "gpmeta_model_path = os.path.dirname(os.path.abspath('')) + '/data/' + str(gpmeta_model_hash) + '/'\n",
    "os.makedirs(gpmeta_model_path, exist_ok=True)\n",
    "if not retrain_gpmeta and os.path.isfile(gpmeta_model_path + 'gpmeta.pth'):\n",
    "    gp_meta.load_state_dict(torch.load(gpmeta_model_path + 'gpmeta.pth'))\n",
    "else:\n",
    "    gp_meta.meta_fit(valid_tuples=data_test[:100], log_period=1000, n_iter=10000)\n",
    "    torch.save(gp_meta.state_dict(), gpmeta_model_path + 'gpmeta.pth')\n",
    "    save_dict({**exp_config, **gpmeta_model_config, **gpmeta_opt_config}, os.path.join(gpmeta_model_path, 'config.json'))"
   ],
   "metadata": {
    "collapsed": false,
    "pycharm": {
     "name": "#%%\n",
     "is_executing": false
    }
   }
  },
  {
   "cell_type": "markdown",
   "source": [
    "### Reporting metrics including ll(log likelihood), RMSE (root mean square error), and calibration error on test set"
   ],
   "metadata": {
    "collapsed": false,
    "pycharm": {
     "name": "#%% md\n",
     "is_executing": false
    }
   }
  },
  {
   "cell_type": "code",
   "execution_count": null,
   "outputs": [],
   "source": [
    "alpaca_ll, alpaca_rmse, alpaca_calib = alpaca.eval_datasets(data_test)\n",
    "gpmeta_ll, gpmeta_rmse, gpmeta_calib = gp_meta.eval_datasets(data_test)\n",
    "alpaca_results_dict = {\n",
    "    'alpaca_ll': np.float64(alpaca_ll),\n",
    "    'alpaca_rmse': np.float64(alpaca_rmse),\n",
    "    'alpaca_calib': np.float64(alpaca_calib),\n",
    "}\n",
    "gpmeta_results_dict = {\n",
    "    'gpmeta_ll': np.float64(gpmeta_ll),\n",
    "    'gpmeta_rmse': np.float64(gpmeta_rmse),\n",
    "    'gpmeta_calib': np.float64(gpmeta_calib)\n",
    "}\n",
    "print(\"\\n\"+\n",
    "        \"----------------------------------------\\n\" + \\\n",
    "        \"                   Results              \\n\" + \\\n",
    "        \"----------------------------------------\" + \\\n",
    "        \"%s\" % dict_to_tabular_str({**alpaca_results_dict, **gpmeta_results_dict}) + \\\n",
    "        \"----------------------------------------\\n\")"
   ],
   "metadata": {
    "collapsed": false,
    "pycharm": {
     "name": "#%%\n"
    }
   }
  },
  {
   "cell_type": "code",
   "execution_count": null,
   "outputs": [],
   "source": [
    "from lib.PACOH.experiments.util import save_results\n",
    "save_results(alpaca_results_dict, alpaca_model_path, log=True)\n",
    "save_results(gpmeta_results_dict, gpmeta_model_path, log=True)"
   ],
   "metadata": {
    "collapsed": false,
    "pycharm": {
     "name": "#%%\n",
     "is_executing": false
    }
   }
  },
  {
   "cell_type": "markdown",
   "source": [
    "### Visualizations on per-time-step performance"
   ],
   "metadata": {
    "collapsed": false,
    "pycharm": {
     "name": "#%% md\n",
     "is_executing": false
    }
   }
  },
  {
   "cell_type": "code",
   "execution_count": null,
   "outputs": [],
   "source": [
    "# eval models\n",
    "\n",
    "if \"sin\" in exp_config['dataset']:\n",
    "    test_idx = 2\n",
    "    \n",
    "    x_gt = np.linspace(-5., 5., 100)\n",
    "    x_gt_tile = np.tile(x_gt, (100, 1)).reshape(100, 100, 1)\n",
    "    y_gt = f_test[test_idx](x_gt)\n",
    "    \n",
    "    from src.benchmark_sinusoid import plot_sin_comparison, plot_sin_alpaca\n",
    "    %matplotlib inline\n",
    "    plot_sin_alpaca(alpaca, test_idx, data_test, x_gt_tile, x_gt, y_gt)\n",
    "    plot_sin_comparison(alpaca, gp_meta, test_idx, data_test, x_gt, y_gt, alpaca_model_path)\n"
   ],
   "metadata": {
    "collapsed": false,
    "pycharm": {
     "name": "#%%\n",
     "is_executing": false
    }
   }
  }
 ],
 "metadata": {
  "kernelspec": {
   "name": "python3",
   "language": "python",
   "display_name": "Python 3"
  },
  "language_info": {
   "codemirror_mode": {
    "name": "ipython",
    "version": 2
   },
   "file_extension": ".py",
   "mimetype": "text/x-python",
   "name": "python",
   "nbconvert_exporter": "python",
   "pygments_lexer": "ipython2",
   "version": "2.7.6"
  },
  "pycharm": {
   "stem_cell": {
    "cell_type": "raw",
    "source": [],
    "metadata": {
     "collapsed": false
    }
   }
  }
 },
 "nbformat": 4,
 "nbformat_minor": 0
}